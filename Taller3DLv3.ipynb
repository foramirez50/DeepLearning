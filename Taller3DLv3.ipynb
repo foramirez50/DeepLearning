{
  "nbformat": 4,
  "nbformat_minor": 0,
  "metadata": {
    "colab": {
      "provenance": [],
      "include_colab_link": true
    },
    "kernelspec": {
      "name": "python3",
      "display_name": "Python 3"
    },
    "language_info": {
      "name": "python"
    }
  },
  "cells": [
    {
      "cell_type": "markdown",
      "metadata": {
        "id": "view-in-github",
        "colab_type": "text"
      },
      "source": [
        "<a href=\"https://colab.research.google.com/github/foramirez50/DeepLearning/blob/main/Taller3DLv3.ipynb\" target=\"_parent\"><img src=\"https://colab.research.google.com/assets/colab-badge.svg\" alt=\"Open In Colab\"/></a>"
      ]
    },
    {
      "cell_type": "markdown",
      "source": [
        "![image](https://docs.google.com/uc?export=download&id=1NUy1Q-abpoV9XYK9qT9t8Mdhj3ZVlveO)"
      ],
      "metadata": {
        "id": "znKNaJnn_ipc"
      }
    },
    {
      "cell_type": "markdown",
      "metadata": {
        "id": "NkCYoS7vchGU"
      },
      "source": [
        "\n",
        "# **Taller 3**\n",
        "\n",
        "La comunidad científica es de la comunidad más activa que existe a la hora de realizar publicaciones en grandes revistas. Los avances tecnológicos, las facilidades a la hora de encontrar información y la gran cantidad de médicos dedicados a realizar estudios y publicarlos ha aumentado a tal punto que realizar una categorización de estos textos sería ideal para poder filtrar la información y acceder a ella de una manera más rápida y precisa.\n",
        "\n",
        "Para eso, le han disponibilizado los *Abstracts* de diferentes artículos de los cuales los expertos los han clasificado en diferentes categorias, la idea es poder automatizar este proceso para que futuros artículos puedan ser clasificados automáticamente sin necesidad de disponer del tiempo de los expertos.\n",
        "\n",
        "Para resolver el modelo, es importante que construyan la mejor Red Neuronal Recurrente que puedan encontrar. El procesamiento, la tokenización, la limpieza de los textos, la definición de los Embedding y la arquitectura de la Red Neuronal, así como la utilización de Redes Preentrenadas están a su criterio. Lo importante es documentar todos los pasos anteriormente descritos.\n",
        "\n",
        "Datos: https://raw.githubusercontent.com/Camilojaravila/202210_MINE-4206_ANALISIS_CON_MACHINE_LEARNING/main/Taller%202/train.dat"
      ]
    },
    {
      "cell_type": "markdown",
      "source": [
        "## **INTEGRANTES**\n",
        "\n",
        "FABIAN ORLANDO RAMIREZ\n",
        "\n",
        "DAVID AUGUSTO VASQUEZ"
      ],
      "metadata": {
        "id": "s3xhxYEJf6NT"
      }
    },
    {
      "cell_type": "markdown",
      "source": [
        "## INSTALACIÓN DE LIBRERÍAS Y SUBIDA DEL DATASET"
      ],
      "metadata": {
        "id": "HBH5lbF52rkj"
      }
    },
    {
      "cell_type": "code",
      "source": [
        "import pandas as pd\n",
        "import numpy as np\n",
        "import keras\n",
        "import tensorflow as tf\n",
        "\n",
        "import matplotlib.pyplot as plt\n",
        "%matplotlib inline\n",
        "\n",
        "from sklearn.metrics import classification_report, confusion_matrix\n",
        "from tensorflow.keras.layers import TextVectorization\n",
        "from tensorflow.keras import Sequential\n",
        "from tensorflow.keras.layers import Dense, Embedding, GlobalAveragePooling1D, Conv1D\n",
        "from tensorflow.keras import losses\n",
        "\n",
        "print('Tensorflow version:', tf.__version__)"
      ],
      "metadata": {
        "id": "c5ecxP4huCHf",
        "colab": {
          "base_uri": "https://localhost:8080/"
        },
        "outputId": "cd7b83da-c78b-4c29-da9c-4efc4ebe7e3b"
      },
      "execution_count": 1,
      "outputs": [
        {
          "output_type": "stream",
          "name": "stdout",
          "text": [
            "Tensorflow version: 2.9.2\n"
          ]
        }
      ]
    },
    {
      "cell_type": "code",
      "source": [
        "url = \"https://raw.githubusercontent.com/Camilojaravila/202210_MINE-4206_ANALISIS_CON_MACHINE_LEARNING/main/Taller%202/train.dat\"\n",
        "\n",
        "dataset = tf.keras.utils.get_file('/content/abstract.dat', url)"
      ],
      "metadata": {
        "id": "x-w7a9I8fluE"
      },
      "execution_count": 2,
      "outputs": []
    },
    {
      "cell_type": "code",
      "source": [
        "file = \"/content/abstract.dat\"\n",
        "with open(file) as f:\n",
        "    mylist = [line.rstrip('\\n') for line in f]"
      ],
      "metadata": {
        "id": "6m_8cPgMVQQo"
      },
      "execution_count": 3,
      "outputs": []
    },
    {
      "cell_type": "code",
      "source": [
        "# este procedimiento se hizo para mostrar que el dataset está desbalanceado, \n",
        "df = pd.DataFrame (mylist, columns = ['class'])\n",
        "df[['labels','text']] = df['class'].str.split('\\t',1,expand=True)\n",
        "df.labels.value_counts()"
      ],
      "metadata": {
        "colab": {
          "base_uri": "https://localhost:8080/"
        },
        "id": "1oO5-5mCW9hx",
        "outputId": "89f995b0-82a7-4794-e6a7-cbc3cc72778c"
      },
      "execution_count": 4,
      "outputs": [
        {
          "output_type": "execute_result",
          "data": {
            "text/plain": [
              "5    4805\n",
              "1    3163\n",
              "4    3051\n",
              "3    1925\n",
              "2    1494\n",
              "Name: labels, dtype: int64"
            ]
          },
          "metadata": {},
          "execution_count": 4
        }
      ]
    },
    {
      "cell_type": "markdown",
      "source": [
        "## CRITERIO 1: PROCESAMIENTO DE TEXTO"
      ],
      "metadata": {
        "id": "BAQ45J_1THmQ"
      }
    },
    {
      "cell_type": "code",
      "source": [
        "# se convierte el dataset de .dat a un dataset de tf con la librería TextLineDataset\n",
        "ds_tensor = tf.data.TextLineDataset(dataset)"
      ],
      "metadata": {
        "id": "VYQmmaT1QBa4"
      },
      "execution_count": 5,
      "outputs": []
    },
    {
      "cell_type": "code",
      "source": [
        "# se ve el tipo y la clase de dataset que se tiene TextLineDatasetV2 element_spec=TensorSpec(shape=(), dtype=tf.string, name=None)\n",
        "print(\"dataset class............\", type(ds_tensor))\n",
        "print(\"dataset type.............\",ds_tensor)"
      ],
      "metadata": {
        "colab": {
          "base_uri": "https://localhost:8080/"
        },
        "id": "vzOwBau2UBBr",
        "outputId": "93216066-8962-46ec-eb6e-9c43d7f0a837"
      },
      "execution_count": 6,
      "outputs": [
        {
          "output_type": "stream",
          "name": "stdout",
          "text": [
            "dataset class............ <class 'tensorflow.python.data.ops.readers.TextLineDatasetV2'>\n",
            "dataset type............. <TextLineDatasetV2 element_spec=TensorSpec(shape=(), dtype=tf.string, name=None)>\n"
          ]
        }
      ]
    },
    {
      "cell_type": "code",
      "source": [
        "# con esta función, dividimos los vectores en labels y text, pero además de esto le hacemos un cast para definir los tipos (dtypes)\n",
        "def get_split_tensor(text):\n",
        "  dataset_split = tf.strings.split(text,sep='\\t')\n",
        "  call_label = tf.cast(dataset_split[1], tf.string)\n",
        "  call_text = tf.cast(int(dataset_split[0]),tf.int64)\n",
        "  return call_label , call_text"
      ],
      "metadata": {
        "id": "7MKykHGyRVt6"
      },
      "execution_count": 7,
      "outputs": []
    },
    {
      "cell_type": "code",
      "source": [
        "# se hace un mapeo para la tranformación con la función de spli y cast los tensores\n",
        "ds_tensor_splited = ds_tensor.map(get_split_tensor)"
      ],
      "metadata": {
        "id": "x5cEk3MtTFV-"
      },
      "execution_count": 8,
      "outputs": []
    },
    {
      "cell_type": "code",
      "source": [
        "# en esta parte se ve la transformación del .map a MapDataset\n",
        "# aquí se puede observar las 2 partes del tensor, la parte del label (int.64) y la parte del texto (string)\n",
        "print(\"dataset class............\", type(ds_tensor_splited))\n",
        "print(\"dataset type.............\",ds_tensor_splited)"
      ],
      "metadata": {
        "colab": {
          "base_uri": "https://localhost:8080/"
        },
        "id": "wuh7sT7ZTko2",
        "outputId": "ffd51a54-d9bb-4cf0-8742-c71b2a9befc7"
      },
      "execution_count": 9,
      "outputs": [
        {
          "output_type": "stream",
          "name": "stdout",
          "text": [
            "dataset class............ <class 'tensorflow.python.data.ops.dataset_ops.MapDataset'>\n",
            "dataset type............. <MapDataset element_spec=(TensorSpec(shape=(), dtype=tf.string, name=None), TensorSpec(shape=(), dtype=tf.int64, name=None))>\n"
          ]
        }
      ]
    },
    {
      "cell_type": "code",
      "source": [
        "# damos un ejemplo con el label y el texto\n",
        "for text, label in ds_tensor_splited.take(1):\n",
        "  print(\"label: \", label.numpy())\n",
        "  print(\"Text: \", text.numpy().decode('utf-8'))"
      ],
      "metadata": {
        "colab": {
          "base_uri": "https://localhost:8080/"
        },
        "id": "8Vx0ZrwVRACc",
        "outputId": "7cd7fbc8-81c5-4bcf-e432-72313c35b2a6"
      },
      "execution_count": 10,
      "outputs": [
        {
          "output_type": "stream",
          "name": "stdout",
          "text": [
            "label:  4\n",
            "Text:  Catheterization laboratory events and hospital outcome with direct angioplasty for acute myocardial infarction To assess the safety of direct infarct angioplasty without antecedent thrombolytic therapy, catheterization laboratory and hospital events were assessed in consecutively treated patients with infarctions involving the left anterior descending (n = 100 patients), right (n = 100), and circumflex (n = 50) coronary arteries. The groups of patients were similar for age (left anterior descending coronary artery, 59 years; right coronary artery, 58 years; circumflex coronary artery, 62 years), patients with multivessel disease (left anterior descending coronary artery, 55%; right coronary artery, 55%; circumflex coronary artery, 64%), and patients with initial grade 0/1 antegrade flow (left anterior descending coronary artery, 79%; right coronary artery, 84%; circumflex coronary artery, 90%). Cardiogenic shock was present in eight patients with infarction of the left anterior descending coronary artery, four with infarction of the right coronary artery, and four with infarction of the circumflex coronary artery. Major catheterization laboratory events (cardioversion, cardiopulmonary resuscitation, dopamine or intra-aortic balloon pump support for hypotension, and urgent surgery) occurred in 10 patients with infarction of the left anterior descending coronary artery, eight with infarction of the right coronary artery, and four with infarction of the circumflex coronary artery (16 of 16 shock and six of 234 nonshock patients, p less than 0.001). There was one in-laboratory death (shock patient with infarction of the left anterior descending coronary artery). \n"
          ]
        }
      ]
    },
    {
      "cell_type": "code",
      "source": [
        "#se divide el dataset siguiendo lasl instruccions citadas abajo, con esto sabemos el tamaño del dataset\n",
        "#https://stackoverflow.com/questions/51125266/how-do-i-split-tensorflow-datasets\n",
        "DATA_SIZE = len(list(ds_tensor_splited))\n",
        "print(DATA_SIZE)"
      ],
      "metadata": {
        "id": "MGXu7SqDfCor",
        "colab": {
          "base_uri": "https://localhost:8080/"
        },
        "outputId": "b8484551-654b-4a59-8756-085f48ec385c"
      },
      "execution_count": 11,
      "outputs": [
        {
          "output_type": "stream",
          "name": "stdout",
          "text": [
            "14438\n"
          ]
        }
      ]
    },
    {
      "cell_type": "code",
      "source": [
        "# se toma la función hstack para tomas la \"y\" que serían los labels en el vector\n",
        "# con esto se encontró los labels del dataset\n",
        "labels1 = np.hstack([y for x, y in ds_tensor_splited])\n",
        "CATEGORIES = np.unique(labels1)\n",
        "print(CATEGORIES)"
      ],
      "metadata": {
        "colab": {
          "base_uri": "https://localhost:8080/"
        },
        "id": "BeLanH_J20iY",
        "outputId": "592a87a9-f3e2-4d47-a09f-3aa97b16c96b"
      },
      "execution_count": 12,
      "outputs": [
        {
          "output_type": "stream",
          "name": "stdout",
          "text": [
            "[1 2 3 4 5]\n"
          ]
        }
      ]
    },
    {
      "cell_type": "code",
      "source": [
        "# El dataset se divide en 20% de test, 16% para validación (el 20% del train) y finalmente el train con un 64%\n",
        "train_size = int(0.64 * DATA_SIZE)\n",
        "val_size = int(0.16 * DATA_SIZE)\n",
        "test_size = int(0.20 * DATA_SIZE)"
      ],
      "metadata": {
        "id": "LLRXC0Daa2HT"
      },
      "execution_count": 13,
      "outputs": []
    },
    {
      "cell_type": "code",
      "source": [
        "# se dividen los datasets y \"saltan\" las partes que están ya en otros grupos\n",
        "train_ds = ds_tensor_splited.take(train_size).shuffle(1000)\n",
        "test_ds = ds_tensor_splited.skip(train_size)\n",
        "val_ds = test_ds.skip(test_size)\n",
        "test_ds = test_ds.take(test_size)"
      ],
      "metadata": {
        "id": "OfdA-Yrma64P"
      },
      "execution_count": 14,
      "outputs": []
    },
    {
      "cell_type": "markdown",
      "source": [
        "### Se toman muestras y tamaños de los datasets de train, val y test"
      ],
      "metadata": {
        "id": "1kIpuQg5VRTN"
      }
    },
    {
      "cell_type": "code",
      "source": [
        "for text, label in train_ds.take(1):\n",
        "  print(\"label: \", label.numpy())\n",
        "  print(\"Text: \", text.numpy().decode('utf-8'))\n",
        "  print(\"train size\", len(list(train_ds)))"
      ],
      "metadata": {
        "colab": {
          "base_uri": "https://localhost:8080/"
        },
        "id": "oCJ_at5ya6zI",
        "outputId": "45c4fb6b-c133-4b29-e290-eae415d4517d"
      },
      "execution_count": 15,
      "outputs": [
        {
          "output_type": "stream",
          "name": "stdout",
          "text": [
            "label:  4\n",
            "Text:  Femoral artery cannulation for monitoring in critically ill children: prospective study. Seventy-seven attempted percutaneous femoral artery cannulations were prospectively evaluated in 74 children. Artery cannulation was successfully accomplished in 73 (95%) cases and lasted for a mean of 6 days. Sixty percent of the catheters were inserted on the first attempt. Fifty-two (71%) patients weighed less than 10 kg and 55 (75%) patients were less than 12 months old. Fifty-one (70%) patients received inotropic support at the time of cannulation, and 27 (37%) eventually died from causes unrelated to catheter insertion. There was one episode each of line-associated infection and transient distal ischemia not resulting in tissue loss, and two episodes of catheter malfunction. In eight (11%) patients, signs of distal vascular insufficiency developed shortly catheter placement and resolved after catheter removal. The development of this complication correlated significantly (p less than .05) with younger age (5.5 vs. 22.3 months). We conclude that femoral artery cannulation has a high degree of success in very small, critically ill children. It should be considered an acceptable alternative to small-vessel cannulation when the latter is not technically achievable, or in the unstable patient where rapid establishment of reliable arterial access is necessary. \n",
            "train size 9240\n"
          ]
        }
      ]
    },
    {
      "cell_type": "code",
      "source": [
        "for text, label in val_ds.take(1):\n",
        "  print(\"label: \", label.numpy())\n",
        "  print(\"Text: \", text.numpy().decode('utf-8'))\n",
        "  print(\"val size\", len(list(val_ds)))"
      ],
      "metadata": {
        "colab": {
          "base_uri": "https://localhost:8080/"
        },
        "id": "7HY3Fh0-xiXd",
        "outputId": "a1e410f5-765a-471f-d9f2-d799c4922519"
      },
      "execution_count": 16,
      "outputs": [
        {
          "output_type": "stream",
          "name": "stdout",
          "text": [
            "label:  1\n",
            "Text:  Interstitial chemotherapy with drug polymer implants for the treatment of recurrent gliomas. Malignant gliomas have been difficult to treat with chemotherapy. The most effective agent, BCNU (carmustine), has considerable systemic toxicity and a short half-life in serum. To obviate these problems, a method has been developed for the local sustained release of chemotherapeutic agents by their incorporation into biodegradable polymers. Implantation of the drug-impregnated polymer at the tumor site allows prolonged local exposure with minimal systemic exposure. In this Phase I-II study, 21 patients with recurrent malignant glioma were treated with BCNU released interstitially by means of a polyanhydride biodegradable polymer implant. Up to eight polymer wafers were placed in the resection cavity intraoperatively, upon completion of tumor debulking. The polymer releases the therapeutic drug for approximately 3 weeks. Three increasing concentrations of BCNU were studied; the treatment was well tolerated at all three levels. There were no adverse reactions to the BCNU wafer treatment itself. The average survival period after reoperation was 65 weeks for the first dose group, 64 weeks for the second dose group, and 32 weeks for the highest dose group. The overall mean survival time was 48 weeks from reoperation and 94 weeks from the original operation. The overall median survival times were 46 weeks postimplant and 87 weeks from initial surgery. Eighteen (86%) of 21 patients lived more than 1 year from the time of their initial diagnosis and eight (38%) of 21 patients lived more than 1 year after intracranial implantation of the polymer. Frequent hematology, blood chemistry, and urinalysis tests did not reveal any systemic effect from this interstitial chemotherapy. Since the therapy is well tolerated and safe, a placebo-controlled clinical trial has been started. The trial will measure the effect of the second treatment dose on survival of patients with recurrent malignant glioma. \n",
            "val size 2311\n"
          ]
        }
      ]
    },
    {
      "cell_type": "code",
      "source": [
        "for text, label in test_ds.take(1):\n",
        "  print(\"label: \", label.numpy())\n",
        "  print(\"Text: \", text.numpy().decode('utf-8'))\n",
        "  print(\"test size\", len(list(test_ds)))"
      ],
      "metadata": {
        "colab": {
          "base_uri": "https://localhost:8080/"
        },
        "id": "5_4YGamxa6p7",
        "outputId": "e764d307-d9a4-4866-9a7a-508f635322c1"
      },
      "execution_count": 17,
      "outputs": [
        {
          "output_type": "stream",
          "name": "stdout",
          "text": [
            "label:  5\n",
            "Text:  Reoperations on heart valve prostheses: an analysis of operative risks and late results. To evaluate risks and complications of reoperations on heart valve prostheses, we reviewed data on 183 patients who underwent reoperation because of prosthetic valve malfunction. The incremental effect of the redo procedure on hospital mortality and morbidity was studied by comparing primary and reoperative procedures and analyzing a series of possible predisposing factors. Late survival after first and second reoperations was computed, and possible determinants of late mortality were examined. Overall operative mortality was 8.7%; emergency operation (p = 0.0001), previous thromboembolism (p = 0.05), and advanced New York Heart Association functional class (p = 0.031) were the independent determinants. In a series of 1,355 patients having primary or secondary isolated valve replacement, the redo procedure was a significant risk factor in the univariate analysis (p = 0.025) but not in the multivariate analysis except for the subset of patients having mitral valve replacement (p = 0.052). The postoperative course was quite complicated, as evidenced by the long mean stay in the intensive care unit (mean stay, 3.8 days; longer than 2 days for 26% of the survivors). Nevertheless, postoperative complications were not significantly greater after a redo procedure than after a primary operation. Actuarial survival at 7 years was 57.3% +/- 8%. A comparison with a nonhomogeneous series from our institution did not demonstrate significant differences. In the subset of 16 patients having a second reoperation, late survival was 37.8% +/- 16% at 2 years. Advanced New York Heart Association class (p = 0.0001), double prosthetic valve dysfunction (p = 0.003), and any indication other than primary tissue failure (p = 0.06) were determinants of late mortality. \n",
            "test size 2887\n"
          ]
        }
      ]
    },
    {
      "cell_type": "markdown",
      "source": [
        "### se comprueba que están divididos y que sumados dan el total del dataset  9240+2311+2887 = 14438"
      ],
      "metadata": {
        "id": "zCwrXf30yWku"
      }
    },
    {
      "cell_type": "code",
      "source": [
        "# Corremos el AUTOTUNE para optimizar el procesamiento de las variables\n",
        "AUTOTUNE = tf.data.AUTOTUNE\n",
        "\n",
        "test_ds = test_ds.cache().prefetch(buffer_size=AUTOTUNE)\n",
        "val_ds = val_ds.cache().prefetch(buffer_size=AUTOTUNE)\n",
        "training_data = train_ds.cache().prefetch(buffer_size=AUTOTUNE)"
      ],
      "metadata": {
        "id": "3KbvfyqG8ROc"
      },
      "execution_count": 18,
      "outputs": []
    },
    {
      "cell_type": "code",
      "source": [
        "# aquí vemos que de nuevo el tensor cambio de clase a PrefetchDataset element_spec, los componentes int y string siguen igual\n",
        "print(\"dataset class............\", type(training_data))\n",
        "print(\"dataset type.............\",training_data)"
      ],
      "metadata": {
        "colab": {
          "base_uri": "https://localhost:8080/"
        },
        "id": "EEFULpaXz2MR",
        "outputId": "6f2e6116-e1c2-437e-a2e2-68c0c6d9cbb7"
      },
      "execution_count": 19,
      "outputs": [
        {
          "output_type": "stream",
          "name": "stdout",
          "text": [
            "dataset class............ <class 'tensorflow.python.data.ops.dataset_ops.PrefetchDataset'>\n",
            "dataset type............. <PrefetchDataset element_spec=(TensorSpec(shape=(), dtype=tf.string, name=None), TensorSpec(shape=(), dtype=tf.int64, name=None))>\n"
          ]
        }
      ]
    },
    {
      "cell_type": "code",
      "source": [
        "#import os\n",
        "#import re\n",
        "#import string"
      ],
      "metadata": {
        "id": "Zq86Q3Op265J"
      },
      "execution_count": 20,
      "outputs": []
    },
    {
      "cell_type": "code",
      "source": [
        "# se intentó hacer con la función dada por el monitor, pero eso daña el text vectorization, deja el vector con valores entre 0 y 30 y no entre 0 y 12000 como dice el vocabulario\n",
        "\n",
        "#def custom_standardization(input_data):\n",
        "#    lowercase = tf.strings.lower(input_data)\n",
        "#    stripped_html = tf.strings.regex_replace(lowercase, '', ' ')\n",
        "#    return tf.strings.regex_replace(stripped_html,\n",
        "#                                  '[%s]' % re.escape(string.punctuation), '')"
      ],
      "metadata": {
        "id": "M1tigNHB8Z7B"
      },
      "execution_count": 21,
      "outputs": []
    },
    {
      "cell_type": "markdown",
      "source": [
        "## CRITERIO 2 : ARQUITECTURA EMBEDDING"
      ],
      "metadata": {
        "id": "himTrxLpURnY"
      }
    },
    {
      "cell_type": "code",
      "source": [
        "# https://www.crowdwriter.com/blog/how-long-should-an-abstract-be según este articulo, el máximo len para un abstract es de 300 palabras en harvard\n",
        "vectorize_layer = TextVectorization(\n",
        "    standardize='lower_and_strip_punctuation',\n",
        "    max_tokens=12000,\n",
        "    output_mode='int',\n",
        "    output_sequence_length=300)"
      ],
      "metadata": {
        "id": "yLTg6pMt0Jn5"
      },
      "execution_count": 22,
      "outputs": []
    },
    {
      "cell_type": "code",
      "source": [
        "# se divide un tf dataset para dejar sólo los textos\n",
        "text_ds = test_ds.map(lambda text, labels: text)\n",
        "# y se utiliza el .adapt para determinar la frecuencia de las palabras y crear el vocabulario con estas palabras\n",
        "vectorize_layer.adapt(text_ds)"
      ],
      "metadata": {
        "id": "hCB6Gr0l-sTv"
      },
      "execution_count": 23,
      "outputs": []
    },
    {
      "cell_type": "code",
      "source": [
        "# con esto se prueba que el vocabulario esté entre los rangos (12000) \n",
        "#se observa que los abstracts que tienen menos palabras se rellenan con \"0\"\n",
        "text_batch, label_batch = next(iter(training_data))\n",
        "text = tf.expand_dims(text_batch, -1)\n",
        "print(vectorize_layer(text), label_batch)"
      ],
      "metadata": {
        "colab": {
          "base_uri": "https://localhost:8080/"
        },
        "id": "eNPCeo_qwfwz",
        "outputId": "7685db55-b17f-4bb7-b89c-267fe5abb5d7"
      },
      "execution_count": 24,
      "outputs": [
        {
          "output_type": "stream",
          "name": "stdout",
          "text": [
            "tf.Tensor(\n",
            "[[   7    1    1  340    8    1    7 3761  270  105 8771    1   12 3165\n",
            "   841 6574  841 6295    6    7    1   13    1 1845   16  670   14    7\n",
            "  3761  270    2    3    1 3798   67   16  687 3294    6 8771    1  150\n",
            "  8771    1   96  323  631  165   23    7 3455  471    3    1    1  340\n",
            "     7  280  246    8    1    7 3761  270   10 1501    8  295    9    6\n",
            "   629   77    5    3 4545    2    7 3165  841 6574   14    3    1 1845\n",
            "     1 1845 8771    1   11   27  114    3   56   11 2421 1257   12   51\n",
            "     9   48 1597 5154  177    2 3736    2    3 3761    5   46    4 4475\n",
            "   270  146  187    8  533  372    2    3 3761  270    5    3   76 2603\n",
            "     2    3 3761  270   18   19 1071  124   99    7  685 1525 3016 3761\n",
            "   270   15    1  228    8 5048 6295    0    0    0    0    0    0    0\n",
            "     0    0    0    0    0    0    0    0    0    0    0    0    0    0\n",
            "     0    0    0    0    0    0    0    0    0    0    0    0    0    0\n",
            "     0    0    0    0    0    0    0    0    0    0    0    0    0    0\n",
            "     0    0    0    0    0    0    0    0    0    0    0    0    0    0\n",
            "     0    0    0    0    0    0    0    0    0    0    0    0    0    0\n",
            "     0    0    0    0    0    0    0    0    0    0    0    0    0    0\n",
            "     0    0    0    0    0    0    0    0    0    0    0    0    0    0\n",
            "     0    0    0    0    0    0    0    0    0    0    0    0    0    0\n",
            "     0    0    0    0    0    0    0    0    0    0    0    0    0    0\n",
            "     0    0    0    0    0    0    0    0    0    0    0    0    0    0\n",
            "     0    0    0    0    0    0]], shape=(1, 300), dtype=int64) tf.Tensor(1, shape=(), dtype=int64)\n"
          ]
        }
      ]
    },
    {
      "cell_type": "markdown",
      "source": [
        "## CRITERIO 3: ENTRENAMIENTO DE LA RED NEURONAL RECURRENTE\n",
        "\n",
        "En esta parte se construyó el modelo, se utilizaron una capa de RNN tipo GRU, por su simplicidad y rapidez de entrenamiento.\n",
        "\n",
        "El Embeding es de 12000 + 1 teniendo en cuenta las palabras desconocidas\n",
        "como el embeding es de 32, se coloco el batch también de este tamaño.\n",
        "\n",
        "Se deja el optimizer Adam por defect y como lideamos con un problema de clasificación colocamos la sparseCategoricalCrossentropy como función de costo\n"
      ],
      "metadata": {
        "id": "tWQSOZCM3Fio"
      }
    },
    {
      "cell_type": "code",
      "source": [
        "# en esta parte se obtenía un error en la capa de salida, pues se tiene los números de 1 a 5 en el clasificador, por esto se tuvo que sumar 1 en las neuronas de la capa de salida\n",
        "embedding_dim=32\n",
        "\n",
        "model_GRU = tf.keras.Sequential([\n",
        "  vectorize_layer,\n",
        "  Embedding(12000 + 1, embedding_dim, name=\"Capa_Embedding\"),\n",
        "  tf.keras.layers.GRU(32, name='Capa_Celdas_GRU'),\n",
        "  Dense(32, activation='relu', name='Capa_Oculta'),\n",
        "  Dense(6,name='Capa_Salida')\n",
        "])\n",
        "\n",
        "model_GRU.compile(optimizer='adam',\n",
        "              loss=losses.SparseCategoricalCrossentropy(from_logits=True),\n",
        "              metrics=['accuracy'])\n",
        "\n",
        "callbacks = [\n",
        "    tf.keras.callbacks.EarlyStopping(monitor='val_loss', patience=5, mode='min'),\n",
        "    tf.keras.callbacks.TensorBoard(log_dir=\"logs\")\n",
        "]\n",
        "\n",
        "batch_size = 32"
      ],
      "metadata": {
        "id": "gT4e1zgezGJ8"
      },
      "execution_count": 25,
      "outputs": []
    },
    {
      "cell_type": "code",
      "source": [
        "# se transforma a batch para poder entrenar el modelo, de lo contrario da error. \n",
        "training_data_batch = training_data.padded_batch(batch_size)\n",
        "val_data_batch = val_ds.padded_batch(batch_size)"
      ],
      "metadata": {
        "id": "uMPEcGezAvbq"
      },
      "execution_count": 26,
      "outputs": []
    },
    {
      "cell_type": "code",
      "source": [
        "# Se ve la tranformación en el tipo del conjunto de training y validación de prefech a batch\n",
        "print(\"dataset class............\", type(training_data_batch))\n",
        "print(\"dataset type.............\",training_data_batch)\n",
        "print(\"dataset class............\", type(val_data_batch))\n",
        "print(\"dataset type.............\",val_data_batch)"
      ],
      "metadata": {
        "colab": {
          "base_uri": "https://localhost:8080/"
        },
        "id": "B72xSyp4ZSr_",
        "outputId": "fd69127f-9b9e-4795-8fcb-d7b7398af80b"
      },
      "execution_count": 27,
      "outputs": [
        {
          "output_type": "stream",
          "name": "stdout",
          "text": [
            "dataset class............ <class 'tensorflow.python.data.ops.dataset_ops.PaddedBatchDataset'>\n",
            "dataset type............. <PaddedBatchDataset element_spec=(TensorSpec(shape=(None,), dtype=tf.string, name=None), TensorSpec(shape=(None,), dtype=tf.int64, name=None))>\n",
            "dataset class............ <class 'tensorflow.python.data.ops.dataset_ops.PaddedBatchDataset'>\n",
            "dataset type............. <PaddedBatchDataset element_spec=(TensorSpec(shape=(None,), dtype=tf.string, name=None), TensorSpec(shape=(None,), dtype=tf.int64, name=None))>\n"
          ]
        }
      ]
    },
    {
      "cell_type": "code",
      "source": [
        "# se entrena el modelo\n",
        "log_GRU = model_GRU.fit(\n",
        "    training_data_batch,\n",
        "    validation_data=val_data_batch,\n",
        "    callbacks=callbacks,\n",
        "    epochs=10)"
      ],
      "metadata": {
        "colab": {
          "base_uri": "https://localhost:8080/"
        },
        "id": "kuInf6fc_gfa",
        "outputId": "f1300c23-4426-4fa6-9d8c-b2227105b7e4"
      },
      "execution_count": 28,
      "outputs": [
        {
          "output_type": "stream",
          "name": "stdout",
          "text": [
            "Epoch 1/10\n",
            "289/289 [==============================] - 53s 174ms/step - loss: 1.5765 - accuracy: 0.3245 - val_loss: 1.5312 - val_accuracy: 0.3423\n",
            "Epoch 2/10\n",
            "289/289 [==============================] - 40s 139ms/step - loss: 1.5386 - accuracy: 0.3226 - val_loss: 1.5308 - val_accuracy: 0.3423\n",
            "Epoch 3/10\n",
            "289/289 [==============================] - 36s 124ms/step - loss: 1.5354 - accuracy: 0.3252 - val_loss: 1.5308 - val_accuracy: 0.3414\n",
            "Epoch 4/10\n",
            "289/289 [==============================] - 39s 135ms/step - loss: 1.5159 - accuracy: 0.3380 - val_loss: 1.3535 - val_accuracy: 0.4232\n",
            "Epoch 5/10\n",
            "289/289 [==============================] - 37s 128ms/step - loss: 1.2574 - accuracy: 0.4595 - val_loss: 1.2302 - val_accuracy: 0.5050\n",
            "Epoch 6/10\n",
            "289/289 [==============================] - 38s 131ms/step - loss: 1.0972 - accuracy: 0.5656 - val_loss: 1.2209 - val_accuracy: 0.5110\n",
            "Epoch 7/10\n",
            "289/289 [==============================] - 36s 126ms/step - loss: 0.9954 - accuracy: 0.6002 - val_loss: 1.2621 - val_accuracy: 0.5080\n",
            "Epoch 8/10\n",
            "289/289 [==============================] - 37s 127ms/step - loss: 0.9170 - accuracy: 0.6341 - val_loss: 1.3420 - val_accuracy: 0.4686\n",
            "Epoch 9/10\n",
            "289/289 [==============================] - 37s 128ms/step - loss: 0.8709 - accuracy: 0.6606 - val_loss: 1.4181 - val_accuracy: 0.4509\n",
            "Epoch 10/10\n",
            "289/289 [==============================] - 37s 128ms/step - loss: 0.8410 - accuracy: 0.6715 - val_loss: 1.4904 - val_accuracy: 0.4483\n"
          ]
        }
      ]
    },
    {
      "cell_type": "code",
      "source": [
        "# se hace la gráfica las epocas del entrenamiento para ver si el modelo se sobreajusta\n",
        "plt.plot(log_GRU.history['loss'], label='Validation loss')\n",
        "plt.plot(log_GRU.history['val_loss'], label='Test loss')\n",
        "plt.title('Validation vs test loss')\n",
        "plt.xlabel('Epochs')\n",
        "plt.ylabel('Loss')\n",
        "plt.legend()\n",
        "plt.show()"
      ],
      "metadata": {
        "colab": {
          "base_uri": "https://localhost:8080/",
          "height": 295
        },
        "id": "xtjchvGKDkvr",
        "outputId": "94bfced2-7ef5-4c93-b73c-53ed2eed2ad2"
      },
      "execution_count": 29,
      "outputs": [
        {
          "output_type": "display_data",
          "data": {
            "text/plain": [
              "<Figure size 432x288 with 1 Axes>"
            ],
            "image/png": "[encoded data removed]"
          },
          "metadata": {
            "needs_background": "light"
          }
        }
      ]
    },
    {
      "cell_type": "markdown",
      "source": [
        "### en esta gráfica se pude observar que el modelo converge alrededor de la época 5 y despues se sobreajusta (el valor de loss para train y test comienza a diverger)"
      ],
      "metadata": {
        "id": "m50HBOEgcbR6"
      }
    },
    {
      "cell_type": "code",
      "source": [
        "# ahora se procede a hacer el summary, (antes de esta parte la función daba error)\n",
        "model_GRU.summary()"
      ],
      "metadata": {
        "colab": {
          "base_uri": "https://localhost:8080/"
        },
        "id": "C9x9_CCD3JWp",
        "outputId": "cf395866-fe1c-4b18-c6af-ac03e077e648"
      },
      "execution_count": 30,
      "outputs": [
        {
          "output_type": "stream",
          "name": "stdout",
          "text": [
            "Model: \"sequential\"\n",
            "_________________________________________________________________\n",
            " Layer (type)                Output Shape              Param #   \n",
            "=================================================================\n",
            " text_vectorization (TextVec  (None, 300)              0         \n",
            " torization)                                                     \n",
            "                                                                 \n",
            " Capa_Embedding (Embedding)  (None, 300, 32)           384032    \n",
            "                                                                 \n",
            " Capa_Celdas_GRU (GRU)       (None, 32)                6336      \n",
            "                                                                 \n",
            " Capa_Oculta (Dense)         (None, 32)                1056      \n",
            "                                                                 \n",
            " Capa_Salida (Dense)         (None, 6)                 198       \n",
            "                                                                 \n",
            "=================================================================\n",
            "Total params: 391,622\n",
            "Trainable params: 391,622\n",
            "Non-trainable params: 0\n",
            "_________________________________________________________________\n"
          ]
        }
      ]
    },
    {
      "cell_type": "code",
      "source": [
        "y_true = list()\n",
        "\n",
        "for text, labels in training_data_batch:\n",
        "    pred = model_GRU.predict(text)\n",
        "    for i in range(len(pred)):\n",
        "        y_true.append(labels[i].numpy())\n",
        "\n",
        "y_true = np.array(y_true)"
      ],
      "metadata": {
        "colab": {
          "base_uri": "https://localhost:8080/"
        },
        "id": "wAUaqLei3T0W",
        "outputId": "7faf99db-3320-4e78-d5dd-70da9f24dc1a"
      },
      "execution_count": 31,
      "outputs": [
        {
          "output_type": "stream",
          "name": "stdout",
          "text": [
            "1/1 [==============================] - 1s 549ms/step\n",
            "1/1 [==============================] - 0s 34ms/step\n",
            "1/1 [==============================] - 0s 34ms/step\n",
            "1/1 [==============================] - 0s 37ms/step\n",
            "1/1 [==============================] - 0s 35ms/step\n",
            "1/1 [==============================] - 0s 39ms/step\n",
            "1/1 [==============================] - 0s 34ms/step\n",
            "1/1 [==============================] - 0s 36ms/step\n",
            "1/1 [==============================] - 0s 36ms/step\n",
            "1/1 [==============================] - 0s 33ms/step\n",
            "1/1 [==============================] - 0s 47ms/step\n",
            "1/1 [==============================] - 0s 36ms/step\n",
            "1/1 [==============================] - 0s 36ms/step\n",
            "1/1 [==============================] - 0s 34ms/step\n",
            "1/1 [==============================] - 0s 34ms/step\n",
            "1/1 [==============================] - 0s 38ms/step\n",
            "1/1 [==============================] - 0s 39ms/step\n",
            "1/1 [==============================] - 0s 34ms/step\n",
            "1/1 [==============================] - 0s 40ms/step\n",
            "1/1 [==============================] - 0s 35ms/step\n",
            "1/1 [==============================] - 0s 37ms/step\n",
            "1/1 [==============================] - 0s 39ms/step\n",
            "1/1 [==============================] - 0s 37ms/step\n",
            "1/1 [==============================] - 0s 49ms/step\n",
            "1/1 [==============================] - 0s 37ms/step\n",
            "1/1 [==============================] - 0s 36ms/step\n",
            "1/1 [==============================] - 0s 35ms/step\n",
            "1/1 [==============================] - 0s 42ms/step\n",
            "1/1 [==============================] - 0s 36ms/step\n",
            "1/1 [==============================] - 0s 35ms/step\n",
            "1/1 [==============================] - 0s 35ms/step\n",
            "1/1 [==============================] - 0s 39ms/step\n",
            "1/1 [==============================] - 0s 35ms/step\n",
            "1/1 [==============================] - 0s 36ms/step\n",
            "1/1 [==============================] - 0s 34ms/step\n",
            "1/1 [==============================] - 0s 37ms/step\n",
            "1/1 [==============================] - 0s 45ms/step\n",
            "1/1 [==============================] - 0s 34ms/step\n",
            "1/1 [==============================] - 0s 37ms/step\n",
            "1/1 [==============================] - 0s 42ms/step\n",
            "1/1 [==============================] - 0s 40ms/step\n",
            "1/1 [==============================] - 0s 39ms/step\n",
            "1/1 [==============================] - 0s 43ms/step\n",
            "1/1 [==============================] - 0s 34ms/step\n",
            "1/1 [==============================] - 0s 38ms/step\n",
            "1/1 [==============================] - 0s 35ms/step\n",
            "1/1 [==============================] - 0s 40ms/step\n",
            "1/1 [==============================] - 0s 35ms/step\n",
            "1/1 [==============================] - 0s 36ms/step\n",
            "1/1 [==============================] - 0s 34ms/step\n",
            "1/1 [==============================] - 0s 39ms/step\n",
            "1/1 [==============================] - 0s 38ms/step\n",
            "1/1 [==============================] - 0s 33ms/step\n",
            "1/1 [==============================] - 0s 40ms/step\n",
            "1/1 [==============================] - 0s 36ms/step\n",
            "1/1 [==============================] - 0s 37ms/step\n",
            "1/1 [==============================] - 0s 42ms/step\n",
            "1/1 [==============================] - 0s 37ms/step\n",
            "1/1 [==============================] - 0s 37ms/step\n",
            "1/1 [==============================] - 0s 38ms/step\n",
            "1/1 [==============================] - 0s 49ms/step\n",
            "1/1 [==============================] - 0s 49ms/step\n",
            "1/1 [==============================] - 0s 39ms/step\n",
            "1/1 [==============================] - 0s 41ms/step\n",
            "1/1 [==============================] - 0s 38ms/step\n",
            "1/1 [==============================] - 0s 35ms/step\n",
            "1/1 [==============================] - 0s 38ms/step\n",
            "1/1 [==============================] - 0s 41ms/step\n",
            "1/1 [==============================] - 0s 36ms/step\n",
            "1/1 [==============================] - 0s 35ms/step\n",
            "1/1 [==============================] - 0s 36ms/step\n",
            "1/1 [==============================] - 0s 38ms/step\n",
            "1/1 [==============================] - 0s 42ms/step\n",
            "1/1 [==============================] - 0s 36ms/step\n",
            "1/1 [==============================] - 0s 35ms/step\n",
            "1/1 [==============================] - 0s 35ms/step\n",
            "1/1 [==============================] - 0s 35ms/step\n",
            "1/1 [==============================] - 0s 37ms/step\n",
            "1/1 [==============================] - 0s 37ms/step\n",
            "1/1 [==============================] - 0s 41ms/step\n",
            "1/1 [==============================] - 0s 39ms/step\n",
            "1/1 [==============================] - 0s 34ms/step\n",
            "1/1 [==============================] - 0s 40ms/step\n",
            "1/1 [==============================] - 0s 38ms/step\n",
            "1/1 [==============================] - 0s 38ms/step\n",
            "1/1 [==============================] - 0s 35ms/step\n",
            "1/1 [==============================] - 0s 44ms/step\n",
            "1/1 [==============================] - 0s 37ms/step\n",
            "1/1 [==============================] - 0s 35ms/step\n",
            "1/1 [==============================] - 0s 39ms/step\n",
            "1/1 [==============================] - 0s 40ms/step\n",
            "1/1 [==============================] - 0s 36ms/step\n",
            "1/1 [==============================] - 0s 35ms/step\n",
            "1/1 [==============================] - 0s 38ms/step\n",
            "1/1 [==============================] - 0s 34ms/step\n",
            "1/1 [==============================] - 0s 36ms/step\n",
            "1/1 [==============================] - 0s 36ms/step\n",
            "1/1 [==============================] - 0s 41ms/step\n",
            "1/1 [==============================] - 0s 39ms/step\n",
            "1/1 [==============================] - 0s 38ms/step\n",
            "1/1 [==============================] - 0s 42ms/step\n",
            "1/1 [==============================] - 0s 38ms/step\n",
            "1/1 [==============================] - 0s 39ms/step\n",
            "1/1 [==============================] - 0s 35ms/step\n",
            "1/1 [==============================] - 0s 41ms/step\n",
            "1/1 [==============================] - 0s 34ms/step\n",
            "1/1 [==============================] - 0s 44ms/step\n",
            "1/1 [==============================] - 0s 41ms/step\n",
            "1/1 [==============================] - 0s 39ms/step\n",
            "1/1 [==============================] - 0s 39ms/step\n",
            "1/1 [==============================] - 0s 35ms/step\n",
            "1/1 [==============================] - 0s 43ms/step\n",
            "1/1 [==============================] - 0s 44ms/step\n",
            "1/1 [==============================] - 0s 35ms/step\n",
            "1/1 [==============================] - 0s 37ms/step\n",
            "1/1 [==============================] - 0s 40ms/step\n",
            "1/1 [==============================] - 0s 37ms/step\n",
            "1/1 [==============================] - 0s 41ms/step\n",
            "1/1 [==============================] - 0s 36ms/step\n",
            "1/1 [==============================] - 0s 38ms/step\n",
            "1/1 [==============================] - 0s 39ms/step\n",
            "1/1 [==============================] - 0s 37ms/step\n",
            "1/1 [==============================] - 0s 35ms/step\n",
            "1/1 [==============================] - 0s 35ms/step\n",
            "1/1 [==============================] - 0s 34ms/step\n",
            "1/1 [==============================] - 0s 38ms/step\n",
            "1/1 [==============================] - 0s 37ms/step\n",
            "1/1 [==============================] - 0s 41ms/step\n",
            "1/1 [==============================] - 0s 35ms/step\n",
            "1/1 [==============================] - 0s 36ms/step\n",
            "1/1 [==============================] - 0s 38ms/step\n",
            "1/1 [==============================] - 0s 41ms/step\n",
            "1/1 [==============================] - 0s 40ms/step\n",
            "1/1 [==============================] - 0s 38ms/step\n",
            "1/1 [==============================] - 0s 36ms/step\n",
            "1/1 [==============================] - 0s 36ms/step\n",
            "1/1 [==============================] - 0s 45ms/step\n",
            "1/1 [==============================] - 0s 35ms/step\n",
            "1/1 [==============================] - 0s 39ms/step\n",
            "1/1 [==============================] - 0s 35ms/step\n",
            "1/1 [==============================] - 0s 42ms/step\n",
            "1/1 [==============================] - 0s 38ms/step\n",
            "1/1 [==============================] - 0s 35ms/step\n",
            "1/1 [==============================] - 0s 42ms/step\n",
            "1/1 [==============================] - 0s 36ms/step\n",
            "1/1 [==============================] - 0s 37ms/step\n",
            "1/1 [==============================] - 0s 38ms/step\n",
            "1/1 [==============================] - 0s 36ms/step\n",
            "1/1 [==============================] - 0s 36ms/step\n",
            "1/1 [==============================] - 0s 34ms/step\n",
            "1/1 [==============================] - 0s 38ms/step\n",
            "1/1 [==============================] - 0s 35ms/step\n",
            "1/1 [==============================] - 0s 43ms/step\n",
            "1/1 [==============================] - 0s 40ms/step\n",
            "1/1 [==============================] - 0s 37ms/step\n",
            "1/1 [==============================] - 0s 38ms/step\n",
            "1/1 [==============================] - 0s 35ms/step\n",
            "1/1 [==============================] - 0s 42ms/step\n",
            "1/1 [==============================] - 0s 36ms/step\n",
            "1/1 [==============================] - 0s 42ms/step\n",
            "1/1 [==============================] - 0s 40ms/step\n",
            "1/1 [==============================] - 0s 46ms/step\n",
            "1/1 [==============================] - 0s 40ms/step\n",
            "1/1 [==============================] - 0s 36ms/step\n",
            "1/1 [==============================] - 0s 38ms/step\n",
            "1/1 [==============================] - 0s 39ms/step\n",
            "1/1 [==============================] - 0s 39ms/step\n",
            "1/1 [==============================] - 0s 40ms/step\n",
            "1/1 [==============================] - 0s 37ms/step\n",
            "1/1 [==============================] - 0s 35ms/step\n",
            "1/1 [==============================] - 0s 37ms/step\n",
            "1/1 [==============================] - 0s 36ms/step\n",
            "1/1 [==============================] - 0s 36ms/step\n",
            "1/1 [==============================] - 0s 36ms/step\n",
            "1/1 [==============================] - 0s 34ms/step\n",
            "1/1 [==============================] - 0s 41ms/step\n",
            "1/1 [==============================] - 0s 37ms/step\n",
            "1/1 [==============================] - 0s 37ms/step\n",
            "1/1 [==============================] - 0s 36ms/step\n",
            "1/1 [==============================] - 0s 36ms/step\n",
            "1/1 [==============================] - 0s 40ms/step\n",
            "1/1 [==============================] - 0s 33ms/step\n",
            "1/1 [==============================] - 0s 37ms/step\n",
            "1/1 [==============================] - 0s 38ms/step\n",
            "1/1 [==============================] - 0s 35ms/step\n",
            "1/1 [==============================] - 0s 49ms/step\n",
            "1/1 [==============================] - 0s 36ms/step\n",
            "1/1 [==============================] - 0s 36ms/step\n",
            "1/1 [==============================] - 0s 38ms/step\n",
            "1/1 [==============================] - 0s 37ms/step\n",
            "1/1 [==============================] - 0s 36ms/step\n",
            "1/1 [==============================] - 0s 35ms/step\n",
            "1/1 [==============================] - 0s 36ms/step\n",
            "1/1 [==============================] - 0s 38ms/step\n",
            "1/1 [==============================] - 0s 45ms/step\n",
            "1/1 [==============================] - 0s 41ms/step\n",
            "1/1 [==============================] - 0s 38ms/step\n",
            "1/1 [==============================] - 0s 36ms/step\n",
            "1/1 [==============================] - 0s 49ms/step\n",
            "1/1 [==============================] - 0s 39ms/step\n",
            "1/1 [==============================] - 0s 38ms/step\n",
            "1/1 [==============================] - 0s 36ms/step\n",
            "1/1 [==============================] - 0s 38ms/step\n",
            "1/1 [==============================] - 0s 34ms/step\n",
            "1/1 [==============================] - 0s 37ms/step\n",
            "1/1 [==============================] - 0s 36ms/step\n",
            "1/1 [==============================] - 0s 43ms/step\n",
            "1/1 [==============================] - 0s 38ms/step\n",
            "1/1 [==============================] - 0s 39ms/step\n",
            "1/1 [==============================] - 0s 37ms/step\n",
            "1/1 [==============================] - 0s 39ms/step\n",
            "1/1 [==============================] - 0s 35ms/step\n",
            "1/1 [==============================] - 0s 37ms/step\n",
            "1/1 [==============================] - 0s 40ms/step\n",
            "1/1 [==============================] - 0s 40ms/step\n",
            "1/1 [==============================] - 0s 35ms/step\n",
            "1/1 [==============================] - 0s 39ms/step\n",
            "1/1 [==============================] - 0s 37ms/step\n",
            "1/1 [==============================] - 0s 38ms/step\n",
            "1/1 [==============================] - 0s 37ms/step\n",
            "1/1 [==============================] - 0s 42ms/step\n",
            "1/1 [==============================] - 0s 35ms/step\n",
            "1/1 [==============================] - 0s 34ms/step\n",
            "1/1 [==============================] - 0s 35ms/step\n",
            "1/1 [==============================] - 0s 37ms/step\n",
            "1/1 [==============================] - 0s 40ms/step\n",
            "1/1 [==============================] - 0s 35ms/step\n",
            "1/1 [==============================] - 0s 40ms/step\n",
            "1/1 [==============================] - 0s 34ms/step\n",
            "1/1 [==============================] - 0s 36ms/step\n",
            "1/1 [==============================] - 0s 43ms/step\n",
            "1/1 [==============================] - 0s 36ms/step\n",
            "1/1 [==============================] - 0s 35ms/step\n",
            "1/1 [==============================] - 0s 35ms/step\n",
            "1/1 [==============================] - 0s 37ms/step\n",
            "1/1 [==============================] - 0s 51ms/step\n",
            "1/1 [==============================] - 0s 41ms/step\n",
            "1/1 [==============================] - 0s 38ms/step\n",
            "1/1 [==============================] - 0s 35ms/step\n",
            "1/1 [==============================] - 0s 35ms/step\n",
            "1/1 [==============================] - 0s 36ms/step\n",
            "1/1 [==============================] - 0s 41ms/step\n",
            "1/1 [==============================] - 0s 38ms/step\n",
            "1/1 [==============================] - 0s 35ms/step\n",
            "1/1 [==============================] - 0s 36ms/step\n",
            "1/1 [==============================] - 0s 35ms/step\n",
            "1/1 [==============================] - 0s 38ms/step\n",
            "1/1 [==============================] - 0s 36ms/step\n",
            "1/1 [==============================] - 0s 43ms/step\n",
            "1/1 [==============================] - 0s 37ms/step\n",
            "1/1 [==============================] - 0s 62ms/step\n",
            "1/1 [==============================] - 0s 57ms/step\n",
            "1/1 [==============================] - 0s 65ms/step\n",
            "1/1 [==============================] - 0s 62ms/step\n",
            "1/1 [==============================] - 0s 63ms/step\n",
            "1/1 [==============================] - 0s 60ms/step\n",
            "1/1 [==============================] - 0s 68ms/step\n",
            "1/1 [==============================] - 0s 72ms/step\n",
            "1/1 [==============================] - 0s 60ms/step\n",
            "1/1 [==============================] - 0s 64ms/step\n",
            "1/1 [==============================] - 0s 59ms/step\n",
            "1/1 [==============================] - 0s 61ms/step\n",
            "1/1 [==============================] - 0s 63ms/step\n",
            "1/1 [==============================] - 0s 67ms/step\n",
            "1/1 [==============================] - 0s 62ms/step\n",
            "1/1 [==============================] - 0s 62ms/step\n",
            "1/1 [==============================] - 0s 64ms/step\n",
            "1/1 [==============================] - 0s 66ms/step\n",
            "1/1 [==============================] - 0s 67ms/step\n",
            "1/1 [==============================] - 0s 56ms/step\n",
            "1/1 [==============================] - 0s 75ms/step\n",
            "1/1 [==============================] - 0s 98ms/step\n",
            "1/1 [==============================] - 0s 79ms/step\n",
            "1/1 [==============================] - 0s 60ms/step\n",
            "1/1 [==============================] - 0s 59ms/step\n",
            "1/1 [==============================] - 0s 67ms/step\n",
            "1/1 [==============================] - 0s 57ms/step\n",
            "1/1 [==============================] - 0s 63ms/step\n",
            "1/1 [==============================] - 0s 55ms/step\n",
            "1/1 [==============================] - 0s 60ms/step\n",
            "1/1 [==============================] - 0s 61ms/step\n",
            "1/1 [==============================] - 0s 66ms/step\n",
            "1/1 [==============================] - 0s 62ms/step\n",
            "1/1 [==============================] - 0s 63ms/step\n",
            "1/1 [==============================] - 0s 59ms/step\n",
            "1/1 [==============================] - 0s 68ms/step\n",
            "1/1 [==============================] - 0s 65ms/step\n",
            "1/1 [==============================] - 0s 64ms/step\n",
            "1/1 [==============================] - 0s 468ms/step\n"
          ]
        }
      ]
    },
    {
      "cell_type": "code",
      "source": [
        "y_pred = np.argmax(model_GRU.predict(training_data_batch), axis=1)\n",
        "\n",
        "print(classification_report(y_true, y_pred=y_pred,target_names=[str(num.item() ) for num in CATEGORIES]))"
      ],
      "metadata": {
        "colab": {
          "base_uri": "https://localhost:8080/"
        },
        "id": "JONz-M5-4Xkn",
        "outputId": "bef1d097-a135-4917-d532-24abfb82890c"
      },
      "execution_count": 32,
      "outputs": [
        {
          "output_type": "stream",
          "name": "stdout",
          "text": [
            "289/289 [==============================] - 7s 23ms/step\n",
            "              precision    recall  f1-score   support\n",
            "\n",
            "           1       0.73      0.95      0.82      2024\n",
            "           2       0.43      0.61      0.51       970\n",
            "           3       0.45      0.53      0.49      1243\n",
            "           4       0.84      0.71      0.77      1974\n",
            "           5       0.65      0.45      0.53      3029\n",
            "\n",
            "    accuracy                           0.64      9240\n",
            "   macro avg       0.62      0.65      0.62      9240\n",
            "weighted avg       0.66      0.64      0.64      9240\n",
            "\n"
          ]
        }
      ]
    },
    {
      "cell_type": "markdown",
      "source": [
        "## CRITERIO 4: CONCLUSIONES DEL NEGOCIO\n",
        "\n",
        "1. dataset está no balanceado: cómo se evidenció desde el principio el dataset estaba desbalanceado, por esta razón los resultados para la clase 2 y 3 dan menor recall en comparación con la clase 5\n",
        "\n",
        "2. el mejor modelo GRU: Se realizaron algunas iteraciones con el modelo, pero el modelo más simple con el mejor desempeño fue el que se presenta, de ahí se modificaron algunos hyperparámetros para que dieran mejores resultados.\n",
        "\n",
        "Se obvio las LTSM pues este modelo es relativamene corto (300 palabras máximo) y con una arquitectura tan pequeña no debería tener desvanecimiento de gradiente. También se consultó que las [LTSM](https://medium.com/mindboard/lstm-vs-gru-experimental-comparison-955820c21e8b) tiene una mayor volatilidad. Por esta razón no se hicieron pruebas con el LTSM\n",
        "\n",
        "3. entendimiento del negocio, ¿cómo se modificaron los hyperparámetros?\n",
        "\n",
        "Embedding: el embedding se modificó a 300 palabras, esto con base en la longuitud máxima de los abstracts, que bajo la regulación de Harvard son 300 palabras.\n",
        "\n",
        "Vocabulario: el vocabulario se maximizó (12.000 palabras), teniendo en cuenta la especificidad del contexto, pues cada abstract tiene sus palabras específicas y maximizando esto, ayuda mucho a realizar mejores clasificaciones\n",
        "\n",
        "Entrenamiento: con un aumento progresivo de los hyperparámetros anteriormente mencionados, se observó una mejora considerable en presición y recall, por este motivo, se dejó el mejor modelo con estos parámetros maximizados.\n"
      ],
      "metadata": {
        "id": "1uGb_mkg21Lq"
      }
    }
  ]
}