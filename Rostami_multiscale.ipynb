{
  "nbformat": 4,
  "nbformat_minor": 0,
  "metadata": {
    "colab": {
      "provenance": [],
      "authorship_tag": "ABX9TyP/mvayyg1gPUKdmRXry34F",
      "include_colab_link": true
    },
    "kernelspec": {
      "name": "python3",
      "display_name": "Python 3"
    },
    "language_info": {
      "name": "python"
    }
  },
  "cells": [
    {
      "cell_type": "markdown",
      "metadata": {
        "id": "view-in-github",
        "colab_type": "text"
      },
      "source": [
        "<a href=\"https://colab.research.google.com/github/foramirez50/DeepLearning/blob/main/Rostami_multiscale.ipynb\" target=\"_parent\"><img src=\"https://colab.research.google.com/assets/colab-badge.svg\" alt=\"Open In Colab\"/></a>"
      ]
    },
    {
      "cell_type": "code",
      "source": [
        "from keras.models import *\n",
        "from keras.layers import *"
      ],
      "metadata": {
        "id": "SdM0MGlcgRrH"
      },
      "execution_count": null,
      "outputs": []
    },
    {
      "cell_type": "code",
      "source": [
        "def conv2d_block(input_tensor, kernel_size, n_filters, batchnorm = True):\n",
        "  \n",
        "  xA = Conv2D(filters=n_filters, kernel_size=(kernel_size, kernel_size), kernel_initializer=\"he_normal\",padding=\"same\")(input_tensor)\n",
        "  xA = BatchNormalization()(xA)\n",
        "  xA = Activation(\"relu\")(xA)\n",
        "\n",
        "  xB = Conv2D(filters=n_filters, kernel_size=(kernel_size, kernel_size), kernel_initializer=\"he_normal\",padding=\"same\")(input_tensor)\n",
        "  xB = BatchNormalization()(xB)\n",
        "\n",
        "  x_concat = Concatenate([xA, xB])\n",
        "  x_concat = Activation(\"relu\")(x_concat)\n",
        "\n",
        "  return x_concat"
      ],
      "metadata": {
        "id": "QyBtTZhb1qaT"
      },
      "execution_count": 5,
      "outputs": []
    },
    {
      "cell_type": "code",
      "source": [
        "def get_multiscale(nClasses, input_height=256, input_width=256, n_filters = 16, dropout = 0.1, batchnorm = True):\n",
        "\n",
        "          input_height=265\n",
        "          input_width=265\n",
        "          img_input = Input(shape=(input_height,input_width, 4))\n",
        "\n",
        "\n",
        "          # contracting path\n",
        "\n",
        "          # Encoder layer 1 \n",
        "          layer1 = Concatenate ([\n",
        "              conv2d_block(img_input, 3, n_filters*1,batchnorm = True),\n",
        "              conv2d_block(img_input, 5, n_filters*1,batchnorm = True),\n",
        "              conv2d_block(img_input, 7, n_filters*1,batchnorm = True)\n",
        "              ]\n",
        "          )\n",
        "          layer1 = MaxPooling2D((2, 2)) (layer1)\n",
        "\n",
        "          # Encoder layer 2\n",
        "\n",
        "          layer2 = Concatenate ([\n",
        "              conv2d_block(layer1, 3, n_filters*2,batchnorm = True),\n",
        "              conv2d_block(layer1, 5, n_filters*2,batchnorm = True),\n",
        "              conv2d_block(layer1, 7, n_filters*2,batchnorm = True)\n",
        "              ]\n",
        "          )\n",
        "          layer2 = MaxPooling2D((2, 2)) (layer2)\n",
        "\n",
        "          # Encoder layer 3\n",
        "\n",
        "          layer3 = Concatenate ([\n",
        "              conv2d_block(layer2, 3, n_filters*4,batchnorm = True),\n",
        "              conv2d_block(layer2, 5, n_filters*4,batchnorm = True),\n",
        "              conv2d_block(layer2, 7, n_filters*4,batchnorm = True)\n",
        "              ]\n",
        "          )\n",
        "          layer3= MaxPooling2D((2, 2)) (layer3)\n",
        "\n",
        "          # Encoder layer 4\n",
        "\n",
        "          layer4 = Concatenate ([\n",
        "              conv2d_block(layer3, 3, n_filters*8,batchnorm = True),\n",
        "              conv2d_block(layer3, 5, n_filters*8,batchnorm = True),\n",
        "              conv2d_block(layer3, 7, n_filters*8,batchnorm = True)\n",
        "              ]\n",
        "          )\n",
        "          layer4= MaxPooling2D((2, 2)) (layer4)\n",
        "\n",
        "          # Encoder layer 5\n",
        "\n",
        "          layer5 = Concatenate ([\n",
        "              conv2d_block(layer4, 3, n_filters*16,batchnorm = True),\n",
        "              conv2d_block(layer4, 5, n_filters*16,batchnorm = True),\n",
        "              conv2d_block(layer4, 7, n_filters*16,batchnorm = True)\n",
        "              ]\n",
        "          )\n",
        "          layer5= MaxPooling2D((2, 2)) (layer5)\n",
        "\n",
        "\n",
        "          # expansive path\n",
        "\n",
        "          # Decoder layer 1\n",
        "\n",
        "          d_layer1 = Conv2DTranspose(128, (3, 3), strides=(2, 2), padding='same') (layer5)\n",
        "          d_layer1 = BatchNormalization()(d_layer1)\n",
        "          d_layer1 = Activation(\"relu\")(d_layer1)\n",
        "          d_layer1 = Concatenate([d_layer1, layer4])\n",
        "\n",
        "          d_layer1 = Concatenate ([\n",
        "              conv2d_block(d_layer1, 3, n_filters*8,batchnorm = True) ,\n",
        "              conv2d_block(d_layer1, 5, n_filters*8,batchnorm = True) ,\n",
        "              conv2d_block(d_layer1, 7, n_filters*8,batchnorm = True)\n",
        "              ]\n",
        "          )\n",
        "\n",
        "          # Decoder layer 2\n",
        "\n",
        "          d_layer2 = Conv2DTranspose(64, (3, 3), strides=(2, 2), padding='same') (d_layer1)\n",
        "          d_layer2 = BatchNormalization()(d_layer2)\n",
        "          d_layer2 = Activation(\"relu\")(d_layer2)\n",
        "          d_layer2 = Concatenate([d_layer2, layer3])\n",
        "\n",
        "          d_layer2 = Concatenate ([\n",
        "              conv2d_block(d_layer2, 3, n_filters*4,batchnorm = True) ,\n",
        "              conv2d_block(d_layer2, 5, n_filters*4,batchnorm = True) ,\n",
        "              conv2d_block(d_layer2, 7, n_filters*4,batchnorm = True)\n",
        "              ]\n",
        "          )\n",
        "\n",
        "          # Decoder layer 3\n",
        "\n",
        "          d_layer3 = Conv2DTranspose(32, (3, 3), strides=(2, 2), padding='same') (d_layer2)\n",
        "          d_layer3 = BatchNormalization()(d_layer3)\n",
        "          d_layer3 = Activation(\"relu\")(d_layer3)\n",
        "          d_layer3 = Concatenate([d_layer3, layer2])\n",
        "\n",
        "          d_layer3 = Concatenate ([\n",
        "              conv2d_block(d_layer3, 3, n_filters*2,batchnorm = True) ,\n",
        "              conv2d_block(d_layer3, 5, n_filters*2,batchnorm = True) ,\n",
        "              conv2d_block(d_layer3, 7, n_filters*2,batchnorm = True)\n",
        "              ]\n",
        "          )\n",
        "\n",
        "          # Decoder layer 4\n",
        "\n",
        "          d_layer4 = Conv2DTranspose(16, (3, 3), strides=(2, 2), padding='same') (d_layer2)\n",
        "          d_layer4 = BatchNormalization()(d_layer4)\n",
        "          d_layer4 = Activation(\"relu\")(d_layer4)\n",
        "          d_layer4 = Concatenate([d_layer4, layer1])\n",
        "\n",
        "          d_layer4 = Concatenate ([\n",
        "              conv2d_block(d_layer4, 3, n_filters,batchnorm = True) ,\n",
        "              conv2d_block(d_layer4, 5, n_filters,batchnorm = True) ,\n",
        "              conv2d_block(d_layer4, 7, n_filters,batchnorm = True)\n",
        "              ]\n",
        "          )\n",
        "\n",
        "          d_layer4 = Dropout(dropout)(d_layer4)      \n",
        "\n",
        "\n",
        "          # output layer\n",
        "          outputs = Conv2D(1, (1, 1), activation='softmax') (d_layer4)\n",
        "          return outputs   "
      ],
      "metadata": {
        "id": "ljOCbtrKjg-u"
      },
      "execution_count": 10,
      "outputs": []
    },
    {
      "cell_type": "code",
      "source": [],
      "metadata": {
        "id": "MvhewYjoUWrO"
      },
      "execution_count": null,
      "outputs": []
    },
    {
      "cell_type": "code",
      "source": [],
      "metadata": {
        "id": "AeMcWzhYg5gr"
      },
      "execution_count": null,
      "outputs": []
    },
    {
      "cell_type": "code",
      "source": [],
      "metadata": {
        "id": "l1kSH-_kg5eD"
      },
      "execution_count": null,
      "outputs": []
    }
  ]
}